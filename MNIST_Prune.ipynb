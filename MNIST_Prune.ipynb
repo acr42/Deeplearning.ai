{
  "nbformat": 4,
  "nbformat_minor": 0,
  "metadata": {
    "colab": {
      "name": "MNIST-Prune.ipynb",
      "version": "0.3.2",
      "provenance": [],
      "collapsed_sections": [],
      "toc_visible": true,
      "include_colab_link": true
    },
    "kernelspec": {
      "name": "python3",
      "display_name": "Python 3"
    },
    "accelerator": "TPU"
  },
  "cells": [
    {
      "cell_type": "markdown",
      "metadata": {
        "id": "view-in-github",
        "colab_type": "text"
      },
      "source": [
        "<a href=\"https://colab.research.google.com/github/alexanderimanicowenrivers/Deeplearning.ai/blob/master/MNIST_Prune.ipynb\" target=\"_parent\"><img src=\"https://colab.research.google.com/assets/colab-badge.svg\" alt=\"Open In Colab\"/></a>"
      ]
    },
    {
      "metadata": {
        "id": "onXwj-Mxblkg",
        "colab_type": "text"
      },
      "cell_type": "markdown",
      "source": [
        "# Intro "
      ]
    },
    {
      "metadata": {
        "id": "HZ9PK-6XZ36u",
        "colab_type": "text"
      },
      "cell_type": "markdown",
      "source": [
        "In this colab document we will explore how to create and prune a basic model in tensorflow.\n"
      ]
    },
    {
      "metadata": {
        "id": "qn3nWaMHboup",
        "colab_type": "text"
      },
      "cell_type": "markdown",
      "source": [
        "# Imports & utils"
      ]
    },
    {
      "metadata": {
        "id": "7_JNrbEeYeuz",
        "colab_type": "code",
        "colab": {}
      },
      "cell_type": "code",
      "source": [
        "from __future__ import print_function\n",
        "import keras\n",
        "from tensorflow.examples.tutorials.mnist import input_data\n",
        "import tensorflow.contrib.eager as tfe\n",
        "import numpy as np\n",
        "import tensorflow as tf\n",
        "import matplotlib.pyplot as plt"
      ],
      "execution_count": 0,
      "outputs": []
    },
    {
      "metadata": {
        "id": "UKYEpps-iGRO",
        "colab_type": "code",
        "colab": {}
      },
      "cell_type": "code",
      "source": [
        "# Plot learning curves of experiments\n",
        "def plot_learning_curves(results):\n",
        "  # Generate figure.\n",
        "  fig, axes = plt.subplots(1, 3, figsize=(22,12))\n",
        "  st = fig.suptitle(\n",
        "      \"Learning Curves for all Tasks and Hyper-parameter settings\",\n",
        "      fontsize=\"x-large\")\n",
        "  # Plot all learning curves.\n",
        "  for j, (setting, train_accuracy, test_accuracy) in enumerate(results):\n",
        "    # Plot.\n",
        "    xs = [x * log_period_samples for x in range(1, len(train_accuracy)+1)]\n",
        "    axes[j].plot(xs, train_accuracy, label='train_accuracy')\n",
        "    axes[j].plot(xs, test_accuracy, label='val_accuracy')\n",
        "    # Prettify individual plots.\n",
        "    axes[j].ticklabel_format(style='sci', axis='x', scilimits=(0,0))\n",
        "    axes[j].set_xlabel('Number of samples processed')\n",
        "    axes[j].set_ylabel('Epochs: {}, Learning rate: {}.  Accuracy'.format(*setting))\n",
        "    axes[j].set_title('Settings {}'.format(j + 1))\n",
        "    axes[j].legend()\n",
        "  # Prettify overall figure.\n",
        "  plt.tight_layout()\n",
        "  st.set_y(0.95)\n",
        "  fig.subplots_adjust(top=0.91)\n",
        "  plt.show()\n",
        "\n",
        "# Generate summary table of results.\n",
        "def plot_summary_table(experiment_data):\n",
        "  # Fill Data.\n",
        "  cell_text = []\n",
        "  rows = []\n",
        "  columns = ['Setting 1', 'Setting 2', 'Setting 3']\n",
        "  for i, results in enumerate(experiment_data):\n",
        "    rows.append('Model {}'.format(i + 1))\n",
        "    cell_text.append([])\n",
        "    for j, (setting, train_accuracy, test_accuracy) in enumerate(results):\n",
        "      cell_text[i].append(test_accuracy[-1])\n",
        "  # Generate Table.\n",
        "  fig=plt.figure(frameon=False)\n",
        "  ax = plt.gca()\n",
        "  the_table = ax.table(\n",
        "      cellText=cell_text,\n",
        "      rowLabels=rows,\n",
        "      colLabels=columns,\n",
        "      loc='center')\n",
        "  the_table.scale(1, 4)\n",
        "  # Prettify.\n",
        "  ax.patch.set_facecolor('None')\n",
        "  ax.xaxis.set_visible(False)\n",
        "  ax.yaxis.set_visible(False)"
      ],
      "execution_count": 0,
      "outputs": []
    },
    {
      "metadata": {
        "id": "Mw0BAG84Y2bW",
        "colab_type": "text"
      },
      "cell_type": "markdown",
      "source": [
        "# Data loader"
      ]
    },
    {
      "metadata": {
        "id": "s7czD-PNiRT2",
        "colab_type": "code",
        "colab": {}
      },
      "cell_type": "code",
      "source": [
        "# Global variables.\n",
        "log_period_samples = 2000\n",
        "batch_size = 1000"
      ],
      "execution_count": 0,
      "outputs": []
    },
    {
      "metadata": {
        "id": "9ps_IQMZY_Em",
        "colab_type": "code",
        "colab": {}
      },
      "cell_type": "code",
      "source": [
        "def get_data():\n",
        "    return input_data.read_data_sets(\"MNIST_data/\", one_hot=True)"
      ],
      "execution_count": 0,
      "outputs": []
    },
    {
      "metadata": {
        "id": "a3CkxirMY1JX",
        "colab_type": "code",
        "colab": {
          "base_uri": "https://localhost:8080/",
          "height": 85
        },
        "outputId": "ae6ce9c5-68ea-46c3-a67d-365f0b0a7e0e"
      },
      "cell_type": "code",
      "source": [
        "  mnist=get_data()"
      ],
      "execution_count": 16,
      "outputs": [
        {
          "output_type": "stream",
          "text": [
            "Extracting MNIST_data/train-images-idx3-ubyte.gz\n",
            "Extracting MNIST_data/train-labels-idx1-ubyte.gz\n",
            "Extracting MNIST_data/t10k-images-idx3-ubyte.gz\n",
            "Extracting MNIST_data/t10k-labels-idx1-ubyte.gz\n"
          ],
          "name": "stdout"
        }
      ]
    },
    {
      "metadata": {
        "id": "CsnxVdc0hag3",
        "colab_type": "code",
        "colab": {}
      },
      "cell_type": "code",
      "source": [
        "# Store results of runs with different configurations in a dictionary.\n",
        "# Use a tuple (num_epochs, learning_rate) as keys, and a tuple (training_accuracy, testing_accuracy)\n",
        "settings = [(5, 0.01),(5, 0.005),(5, 0.001)]\n",
        "settings = [(5, 0.001)]"
      ],
      "execution_count": 0,
      "outputs": []
    },
    {
      "metadata": {
        "id": "T0C6d-7IZDsJ",
        "colab_type": "text"
      },
      "cell_type": "markdown",
      "source": [
        "# Model"
      ]
    },
    {
      "metadata": {
        "id": "kN-D6W57ZEtp",
        "colab_type": "code",
        "colab": {}
      },
      "cell_type": "code",
      "source": [
        "weight_default_name='weight'\n",
        "bias_default_name='bias'\n",
        "\n",
        "def get_placeholders():\n",
        "  x = tf.placeholder(tf.float32, [None, 784])\n",
        "  y_ = tf.placeholder(tf.float32, [None, 10])\n",
        "  return x, y_\n",
        "\n",
        "def _weight_variable(\n",
        "        shape,\n",
        "        initializer=None,\n",
        "        name=None,\n",
        "        layer_no=0,):\n",
        "    \"\"\"\n",
        "    Returns a weight variable with a given shape.\n",
        "    :param initializer: TensorFlow initializer. Default Xavier.\n",
        "    :param layer: Variable layer number.\n",
        "    :param shape: var shape.\n",
        "    \"\"\"\n",
        "    if name==weight_default_name: \n",
        "      name=weight_default_name+'_'+str(layer_no)\n",
        "      \n",
        "    if initializer is None:\n",
        "        initializer = tf.contrib.layers.xavier_initializer()\n",
        "    var = tf.get_variable(name, shape, initializer=initializer)\n",
        "    return var\n",
        "  \n",
        "def _bias_variable(\n",
        "        shape,\n",
        "        initializer=None,\n",
        "        layer_no=0,\n",
        "):\n",
        "    \"\"\"\n",
        "    Returns a bias variable with a given shape.\n",
        "    :param initializer: TensorFlow initializer. Default zero.\n",
        "    :param layer_no: Variable layer number.\n",
        "    :param shape: Variable shape.\n",
        "    \"\"\"\n",
        "    name=bias_default_name+'_'+str(layer_no)\n",
        "    if initializer is None:\n",
        "        initializer = tf.constant_initializer(0.)\n",
        "\n",
        "    return _weight_variable(shape,\n",
        "                            initializer=initializer,\n",
        "                            name=name)\n",
        "  \n",
        "  \n",
        "def affine(\n",
        "        inp,\n",
        "        units,\n",
        "        bias=False,\n",
        "        W_initializer=None,\n",
        "        b_initializer=None,\n",
        "        W_name=weight_default_name,\n",
        "        bias_name=bias_default_name,\n",
        "        layer_no=0\n",
        "):\n",
        "    \"\"\" Creates an affine layer.\n",
        "    :param inp: Input tensor.\n",
        "    :param units: Number of units.\n",
        "    :param bias: Include bias term.\n",
        "    :param W_initializer: Initializer for the multiplicative weight.\n",
        "    :param b_initializer: Initializer for the bias term.\n",
        "    :param W_name: Name of the weight.\n",
        "    :param bias_name: Name of the bias.\n",
        "    :return: Tensor defined as input.dot(weight) + bias.\n",
        "    \"\"\"\n",
        "    input_size = inp.shape[-1]\n",
        "    W = _weight_variable([input_size, units],\n",
        "                         initializer=W_initializer,\n",
        "                         name=W_name,layer_no=layer_no)\n",
        "\n",
        "    output = tf.matmul(inp, W)\n",
        "\n",
        "    if bias:\n",
        "        b = _bias_variable((units,),\n",
        "                           initializer=b_initializer,\n",
        "                           layer_no=layer_no)\n",
        "\n",
        "        output=tf.add(output, b)\n",
        "\n",
        "    return output\n",
        "  \n",
        "def mlp(inputs,\n",
        "        layer_sizes,\n",
        "        nonlinearity=tf.nn.relu,\n",
        "        output_nonlinearity=None,\n",
        "        W_initializer=None,\n",
        "        b_initializer=None):\n",
        "    \"\"\"\n",
        "    Creates a multi-layer perceptron with given hidden sizes. A nonlinearity\n",
        "    is applied after every hidden layer.\n",
        "    \n",
        "    output shape: N x (number of output units)\n",
        "    :param inputs: List of input tensors.\n",
        "    :param layer_sizes: List of layers sizes, including output layer size.\n",
        "    :param nonlinearity: Hidden layer nonlinearity.\n",
        "    :param output_nonlinearity: Output layer nonlinearity.\n",
        "    :param W_initializer: Weight initializer.\n",
        "    :param b_initializer: Bias initializer.\n",
        "    :return:\n",
        "    \"\"\"\n",
        "    if layer_sizes[-1] is None:\n",
        "        layer_sizes = list(layer_sizes)\n",
        "        layer_sizes[-1] = 1\n",
        "\n",
        "    # Take care of the input layer separately to make use of broadcasting in\n",
        "    # a case of several input tensors.\n",
        "    layer = affine(\n",
        "    inp=inputs,\n",
        "    units=layer_sizes[0],\n",
        "    bias=False,\n",
        "    W_initializer=W_initializer,\n",
        "    b_initializer=b_initializer\n",
        "    )\n",
        "\n",
        "    layer = nonlinearity(layer)\n",
        "\n",
        "    for i_layer, size in enumerate(layer_sizes[1:], 1):\n",
        "\n",
        "      layer = affine(layer, size,bias=False,\n",
        "                     W_initializer=W_initializer,\n",
        "                     b_initializer=b_initializer,\n",
        "                    layer_no=i_layer)\n",
        "      if i_layer < len(layer_sizes) - 1:\n",
        "          layer = nonlinearity(layer)\n",
        "\n",
        "    return layer\n",
        "  \n",
        "def get_graph(layers):\n",
        "  x, y_ = get_placeholders()\n",
        "  linear=mlp(x,layers)\n",
        "  loss=tf.reduce_sum(tf.nn.softmax_cross_entropy_with_logits(logits=linear,labels=y_))\n",
        "  opt=tf.train.AdamOptimizer(learning_rate=learning_rate).minimize(loss)\n",
        "  correct_prediction = tf.equal(tf.argmax(linear,1), tf.argmax(y_,1))\n",
        "  accuracy = tf.reduce_mean(tf.cast(correct_prediction, tf.float32))\n",
        "  \n",
        "  return x, y_,linear,loss,opt,correct_prediction,accuracy\n",
        "\n",
        "layers=[1000, 1000, 500, 200,10]"
      ],
      "execution_count": 0,
      "outputs": []
    },
    {
      "metadata": {
        "id": "_q0UztOoZG0k",
        "colab_type": "text"
      },
      "cell_type": "markdown",
      "source": [
        "# Training"
      ]
    },
    {
      "metadata": {
        "id": "WX27U9PcCe18",
        "colab_type": "code",
        "colab": {
          "base_uri": "https://localhost:8080/",
          "height": 972
        },
        "outputId": "1c9d153a-7d85-458a-d7e3-f34e3e31410e"
      },
      "cell_type": "code",
      "source": [
        "experiments_task1 = []\n",
        "print('Training Model 1')\n",
        "# Train Model 1 with the different hyper-parameter settings.\n",
        "for (num_epochs, learning_rate) in settings:\n",
        "  \n",
        "  # Reset graph, recreate placeholders and dataset.\n",
        "  tf.reset_default_graph()\n",
        "  mnist = get_data()\n",
        "  eval_mnist = get_data()\n",
        "  \n",
        "   \n",
        "  #####################################################\n",
        "  # Define model, loss, update and evaluation metric. #\n",
        "  #####################################################\n",
        "  x, y_,linear,loss,opt,correct_prediction,accuracy=get_graph(layers)\n",
        "  # Train.\n",
        "  i, train_accuracy, test_accuracy = 0, [], []\n",
        "  log_period_updates = int(log_period_samples / batch_size)\n",
        "  saver = tf.train.Saver()\n",
        "  with tf.Session() as sess:\n",
        "    sess.run(tf.global_variables_initializer())\n",
        "    print(f'{tf.trainable_variables()}')\n",
        "    total_parameters=0\n",
        "    for variable in tf.trainable_variables():\n",
        "      # shape is an array of tf.Dimension\n",
        "      shape = variable.get_shape()\n",
        "      variable_parameters = 1\n",
        "      for dim in shape:\n",
        "          variable_parameters *= dim.value\n",
        "      total_parameters += variable_parameters\n",
        "    print(\"total parameters\",total_parameters)\n",
        "    while mnist.train.epochs_completed < num_epochs:\n",
        "\n",
        "      # Update.\n",
        "      i += 1\n",
        "      batch_xs, batch_ys = mnist.train.next_batch(batch_size)\n",
        "      \n",
        "      #################\n",
        "      # Training step #\n",
        "      #################\n",
        "      feed_dict={x:batch_xs,y_:batch_ys}\n",
        "      _=sess.run([opt],feed_dict=feed_dict)\n",
        "      \n",
        "      # Periodically evaluate.\n",
        "      if i % log_period_updates == 0:\n",
        "        \n",
        "        #####################################\n",
        "        # Compute and store train accuracy. #\n",
        "        #####################################\n",
        "        \n",
        "        batch_xs, batch_ys = mnist.train.next_batch((int(mnist.train.labels.shape[0]/5)))\n",
        "        \n",
        "        feed_dict={x:batch_xs,y_:batch_ys}\n",
        "        acc=sess.run([accuracy],feed_dict)\n",
        "        print(f'Accuracy {acc} at iteration {i}')\n",
        "\n",
        "        train_accuracy.append(acc[0])\n",
        "        #####################################\n",
        "        # Compute and store test accuracy.  #\n",
        "        #####################################\n",
        "\n",
        "        feed_dict={x:eval_mnist.test.images,y_:eval_mnist.test.labels}\n",
        "        acc=sess.run([accuracy],feed_dict)\n",
        "        test_accuracy.append(acc[0])\n",
        "        print(f'Validation Accuracy {acc}')\n",
        "    save_path = saver.save(sess, \"./model.ckpt\")\n",
        "    experiments_task1.append(\n",
        "        ((num_epochs, learning_rate), train_accuracy, test_accuracy))"
      ],
      "execution_count": 19,
      "outputs": [
        {
          "output_type": "stream",
          "text": [
            "Training Model 1\n",
            "Extracting MNIST_data/train-images-idx3-ubyte.gz\n",
            "Extracting MNIST_data/train-labels-idx1-ubyte.gz\n",
            "Extracting MNIST_data/t10k-images-idx3-ubyte.gz\n",
            "Extracting MNIST_data/t10k-labels-idx1-ubyte.gz\n",
            "Extracting MNIST_data/train-images-idx3-ubyte.gz\n",
            "Extracting MNIST_data/train-labels-idx1-ubyte.gz\n",
            "Extracting MNIST_data/t10k-images-idx3-ubyte.gz\n",
            "Extracting MNIST_data/t10k-labels-idx1-ubyte.gz\n",
            "[<tf.Variable 'weight_0:0' shape=(784, 1000) dtype=float32_ref>, <tf.Variable 'weight_1:0' shape=(1000, 1000) dtype=float32_ref>, <tf.Variable 'weight_2:0' shape=(1000, 500) dtype=float32_ref>, <tf.Variable 'weight_3:0' shape=(500, 200) dtype=float32_ref>, <tf.Variable 'weight_4:0' shape=(200, 10) dtype=float32_ref>]\n",
            "total parameters 2386000\n",
            "Accuracy [0.65427274] at iteration 2\n",
            "Validation Accuracy [0.6744]\n",
            "Accuracy [0.71154547] at iteration 4\n",
            "Validation Accuracy [0.7152]\n",
            "Accuracy [0.78836364] at iteration 6\n",
            "Validation Accuracy [0.7984]\n",
            "Accuracy [0.81945455] at iteration 8\n",
            "Validation Accuracy [0.8274]\n",
            "Accuracy [0.8710909] at iteration 10\n",
            "Validation Accuracy [0.8846]\n",
            "Accuracy [0.873] at iteration 12\n",
            "Validation Accuracy [0.8772]\n",
            "Accuracy [0.8820909] at iteration 14\n",
            "Validation Accuracy [0.8878]\n",
            "Accuracy [0.8988182] at iteration 16\n",
            "Validation Accuracy [0.9034]\n",
            "Accuracy [0.914] at iteration 18\n",
            "Validation Accuracy [0.912]\n",
            "Accuracy [0.9068182] at iteration 20\n",
            "Validation Accuracy [0.9119]\n",
            "Accuracy [0.9208182] at iteration 22\n",
            "Validation Accuracy [0.9244]\n",
            "Accuracy [0.9240909] at iteration 24\n",
            "Validation Accuracy [0.9236]\n",
            "Accuracy [0.9269091] at iteration 26\n",
            "Validation Accuracy [0.929]\n",
            "Accuracy [0.93372726] at iteration 28\n",
            "Validation Accuracy [0.9353]\n",
            "Accuracy [0.93154544] at iteration 30\n",
            "Validation Accuracy [0.9343]\n",
            "Accuracy [0.93381816] at iteration 32\n",
            "Validation Accuracy [0.937]\n",
            "Accuracy [0.9420909] at iteration 34\n",
            "Validation Accuracy [0.9416]\n",
            "Accuracy [0.94063634] at iteration 36\n",
            "Validation Accuracy [0.9405]\n",
            "Accuracy [0.9410909] at iteration 38\n",
            "Validation Accuracy [0.9416]\n",
            "Accuracy [0.9450909] at iteration 40\n",
            "Validation Accuracy [0.9477]\n",
            "Accuracy [0.949] at iteration 42\n",
            "Validation Accuracy [0.9471]\n",
            "Accuracy [0.94763637] at iteration 44\n",
            "Validation Accuracy [0.9456]\n"
          ],
          "name": "stdout"
        }
      ]
    },
    {
      "metadata": {
        "id": "y4pfJcsqBUxv",
        "colab_type": "code",
        "colab": {
          "base_uri": "https://localhost:8080/",
          "height": 859
        },
        "outputId": "0c40fe43-d4b2-44df-bce0-507853a61e2c"
      },
      "cell_type": "code",
      "source": [
        "plot_learning_curves(experiments_task1)"
      ],
      "execution_count": 20,
      "outputs": [
        {
          "output_type": "display_data",
          "data": {
            "image/png": "[encoded data removed]",
            "text/plain": [
              "<matplotlib.figure.Figure at 0x7f2d1e2329e8>"
            ]
          },
          "metadata": {
            "tags": []
          }
        }
      ]
    },
    {
      "metadata": {
        "id": "1baVaSeBPRDM",
        "colab_type": "text"
      },
      "cell_type": "markdown",
      "source": [
        "# Restore test"
      ]
    },
    {
      "metadata": {
        "id": "QCLd_2sUpXG6",
        "colab_type": "code",
        "colab": {
          "base_uri": "https://localhost:8080/",
          "height": 153
        },
        "outputId": "5a5c35c1-5a06-4fc3-e00f-d4da435d6b22"
      },
      "cell_type": "code",
      "source": [
        "num_epochs=1\n",
        "learning_rate=0.001\n",
        "mnist = get_data()\n",
        "eval_mnist = get_data()"
      ],
      "execution_count": 21,
      "outputs": [
        {
          "output_type": "stream",
          "text": [
            "Extracting MNIST_data/train-images-idx3-ubyte.gz\n",
            "Extracting MNIST_data/train-labels-idx1-ubyte.gz\n",
            "Extracting MNIST_data/t10k-images-idx3-ubyte.gz\n",
            "Extracting MNIST_data/t10k-labels-idx1-ubyte.gz\n",
            "Extracting MNIST_data/train-images-idx3-ubyte.gz\n",
            "Extracting MNIST_data/train-labels-idx1-ubyte.gz\n",
            "Extracting MNIST_data/t10k-images-idx3-ubyte.gz\n",
            "Extracting MNIST_data/t10k-labels-idx1-ubyte.gz\n"
          ],
          "name": "stdout"
        }
      ]
    },
    {
      "metadata": {
        "id": "ww1MmQBfHFw9",
        "colab_type": "code",
        "colab": {
          "base_uri": "https://localhost:8080/",
          "height": 105
        },
        "outputId": "5d2f4f0c-d06b-4063-86f4-578c7cab7e03"
      },
      "cell_type": "code",
      "source": [
        "tf.reset_default_graph()\n",
        "x, y_,linear,loss,opt,correct_prediction,accuracy=get_graph(layers)\n",
        "saver = tf.train.Saver()\n",
        "\n",
        "with tf.Session() as sess:\n",
        "  # Restore variables from disk.\n",
        "  saver.restore(sess, \"./model.ckpt\")\n",
        "  print(\"Model restored.\")\n",
        "  # Check the values of the variables\n",
        "  batch_xs, batch_ys = mnist.train.next_batch((int(mnist.train.labels.shape[0]/5)))\n",
        "  feed_dict={x:batch_xs,y_:batch_ys}\n",
        "  acc=sess.run([accuracy],feed_dict)\n",
        "  print(f'{tf.trainable_variables()}')\n",
        "  total_parameters=0\n",
        "  for variable in tf.trainable_variables():\n",
        "    # shape is an array of tf.Dimension\n",
        "    shape = variable.get_shape()\n",
        "    variable_parameters = 1\n",
        "    for dim in shape:\n",
        "        variable_parameters *= dim.value\n",
        "    total_parameters += variable_parameters\n",
        "  print(\"total parameters\",total_parameters)"
      ],
      "execution_count": 23,
      "outputs": [
        {
          "output_type": "stream",
          "text": [
            "INFO:tensorflow:Restoring parameters from ./model.ckpt\n",
            "Model restored.\n",
            "[<tf.Variable 'weight_0:0' shape=(784, 1000) dtype=float32_ref>, <tf.Variable 'weight_1:0' shape=(1000, 1000) dtype=float32_ref>, <tf.Variable 'weight_2:0' shape=(1000, 500) dtype=float32_ref>, <tf.Variable 'weight_3:0' shape=(500, 200) dtype=float32_ref>, <tf.Variable 'weight_4:0' shape=(200, 10) dtype=float32_ref>]\n",
            "total parameters 2386000\n"
          ],
          "name": "stdout"
        }
      ]
    },
    {
      "metadata": {
        "id": "51maYRzjZIYi",
        "colab_type": "text"
      },
      "cell_type": "markdown",
      "source": [
        "# Pruning"
      ]
    },
    {
      "metadata": {
        "id": "py0yRVF7Y4MA",
        "colab_type": "text"
      },
      "cell_type": "markdown",
      "source": [
        "Unit pruning - Han, S., Pool, J., Tran, J. and Dally, W., 2015. Learning both weights and connections for efficient neural network. In Advances in neural information processing systems (pp. 1135-1143).\n",
        "\n",
        "Weight pruning - LeCun, Y., Denker, J.S. and Solla, S.A., 1990. Optimal brain damage. In Advances in neural information processing systems (pp. 598-605)."
      ]
    },
    {
      "metadata": {
        "id": "baG7zqZ9SdNh",
        "colab_type": "code",
        "colab": {}
      },
      "cell_type": "code",
      "source": [
        "k=[25, 50, 60, 70, 80, 90, 95, 97, 99]\n",
        "# type_prunes=['unit','weight']\n",
        "type_prunes=['unit'] #redo weight"
      ],
      "execution_count": 0,
      "outputs": []
    },
    {
      "metadata": {
        "id": "zIfOckYdOAXA",
        "colab_type": "code",
        "colab": {
          "base_uri": "https://localhost:8080/",
          "height": 232
        },
        "outputId": "7ae577c4-4ef5-44cf-ac2d-242c61450709"
      },
      "cell_type": "code",
      "source": [
        "\n",
        "tf.reset_default_graph()\n",
        "x, y_,linear,loss,opt,correct_prediction,accuracy=get_graph(layers)\n",
        "saver = tf.train.Saver()\n",
        "print(total_parameters, \"Total parameters to prune\")\n",
        "accs=[]\n",
        "params=[]\n",
        "\n",
        "with tf.Session() as sess:\n",
        "  params_pruned=0.\n",
        "  param_prune_count=[]\n",
        "  acc_list=[]\n",
        "\n",
        "# Restore variables from disk.\n",
        "  saver.restore(sess, \"./model.ckpt\")\n",
        "  print(\"Model restored.\")\n",
        "  # Check the values of the variables\n",
        "  all_vars = tf.trainable_variables()\n",
        "\n",
        "  for type_prune in type_prunes:\n",
        "    k=1\n",
        "    if type_prune=='unit':\n",
        "      batch_k=25 #how many columns to prune per each prune iteration\n",
        "    else: \n",
        "      batch_k=20000 #how many weights at a time \n",
        "      \n",
        "    #Prune Metrics l2 norm for unit and l1 for weight. \n",
        "    var_mag=np.array([])\n",
        "    layer_sizes=[]\n",
        "    var_sizes=[]\n",
        "    for var_num,variable in enumerate(all_vars):\n",
        "      if 'weight' in variable.name and str(len(layers)-1) not in variable.name: #leave out last layer \n",
        "        var_sizes.append(variable.shape)\n",
        "        if type_prune=='unit':\n",
        "          layer_sizes.append(variable.shape[0].value)\n",
        "          unit_vals=(tf.norm(variable,axis=axis_sum).eval())\n",
        "          var_mag=np.concatenate((var_mag,unit_vals),axis=0)\n",
        "        else: \n",
        "          layer_sizes.append(variable.shape[0].value*variable.shape[1].value) #each individual weight\n",
        "          weight_vals=tf.reshape(tf.math.abs(variable),[-1]).eval()\n",
        "          var_mag=np.concatenate((var_mag,weight_vals),axis=0)\n",
        "\n",
        "    \n",
        "    all_concat=np.reshape(np.array(var_mag),((-1,)))\n",
        "      \n",
        "    while k<(int(total_parameters/batch_k)-1): \n",
        "      sparse_before=int((k-1)*batch_k)\n",
        "      partion_k=int(batch_k*k)\n",
        "      \n",
        "      if type_prune=='unit':\n",
        "        axis_sum=0 #add on abs of bias's \n",
        "      else: \n",
        "        axis_sum=1\n",
        "        \n",
        "      #Evaluate \n",
        "      feed_dict={x:eval_mnist.test.images,y_:eval_mnist.test.labels}\n",
        "      acc=sess.run(accuracy,feed_dict)\n",
        "      param_prune_count.append(params_pruned)\n",
        "      acc_list.append(acc)\n",
        "      print(f\"paramns pruned {params_pruned} and acc is {acc}\")\n",
        "      \n",
        "      #Prune idx selection\n",
        "      prune_indxss=np.sort(all_concat)[sparse_before:partion_k] #first k guaranteed to be the lowest index's      \n",
        "      prune_indxs=np.array([np.where(all_concat==i)[0][0] for i in prune_indxss])\n",
        "      prune_indxs=np.sort(prune_indxs)\n",
        "      cum_sum_ind=np.cumsum(layer_sizes)\n",
        "      w_ind=0\n",
        "      #Pruning\n",
        "      while w_ind<len(cum_sum_ind):   \n",
        "        for n,prune_indx in enumerate(prune_indxs):\n",
        "          lens=cum_sum_ind[w_ind]\n",
        "          if n==len(prune_indxs)-1:\n",
        "            w_ind=len(cum_sum_ind)+1\n",
        "            break \n",
        "\n",
        "          if prune_indx<lens:\n",
        "            if w_ind==0:\n",
        "              prun_ind=prune_indx\n",
        "            else:\n",
        "              prun_ind=prune_indx-cum_sum_ind[(w_ind-1)]\n",
        "            if type_prune=='unit':\n",
        "              mask=np.ones(var_sizes[w_ind])*1.0\n",
        "              mask[:,prun_ind]=0\n",
        "              assign_op=all_vars[w_ind].assign(mask*all_vars[w_ind].eval())\n",
        "              params_pruned+=var_sizes[w_ind][0].value\n",
        "              all_vars = tf.trainable_variables()\n",
        "            else: \n",
        "              i_idx=int(prun_ind/var_sizes[w_ind][1].value)\n",
        "              j_idx=(prun_ind % var_sizes[w_ind][1].value)\n",
        "              \n",
        "              mask=np.ones(var_sizes[w_ind])*1.0\n",
        "              mask[i_idx,j_idx]=0\n",
        "              assign_op=all_vars[w_ind].assign(mask*all_vars[w_ind].eval())\n",
        "              params_pruned+=1\n",
        "            sess.run(assign_op)\n",
        "          else:\n",
        "            w_ind+=1 #next indx \n",
        "            \n",
        "            \n",
        "        k+=1\n",
        "\n",
        "    print(acc_list,\"acc list\")\n",
        "    print(param_prune_count,\"param_prune_count list\")\n",
        "    print(type_prune,\"type_prune is\")\n",
        "\n",
        "    accs.append(acc_list)\n",
        "    params.append(param_prune_count)"
      ],
      "execution_count": 2,
      "outputs": [
        {
          "output_type": "error",
          "ename": "NameError",
          "evalue": "ignored",
          "traceback": [
            "\u001b[0;31m---------------------------------------------------------------------------\u001b[0m",
            "\u001b[0;31mNameError\u001b[0m                                 Traceback (most recent call last)",
            "\u001b[0;32m<ipython-input-2-bcc0ef67b429>\u001b[0m in \u001b[0;36m<module>\u001b[0;34m()\u001b[0m\n\u001b[1;32m      1\u001b[0m \u001b[0;34m\u001b[0m\u001b[0m\n\u001b[0;32m----> 2\u001b[0;31m \u001b[0mtf\u001b[0m\u001b[0;34m.\u001b[0m\u001b[0mreset_default_graph\u001b[0m\u001b[0;34m(\u001b[0m\u001b[0;34m)\u001b[0m\u001b[0;34m\u001b[0m\u001b[0;34m\u001b[0m\u001b[0m\n\u001b[0m\u001b[1;32m      3\u001b[0m \u001b[0mx\u001b[0m\u001b[0;34m,\u001b[0m \u001b[0my_\u001b[0m\u001b[0;34m,\u001b[0m\u001b[0mlinear\u001b[0m\u001b[0;34m,\u001b[0m\u001b[0mloss\u001b[0m\u001b[0;34m,\u001b[0m\u001b[0mopt\u001b[0m\u001b[0;34m,\u001b[0m\u001b[0mcorrect_prediction\u001b[0m\u001b[0;34m,\u001b[0m\u001b[0maccuracy\u001b[0m\u001b[0;34m=\u001b[0m\u001b[0mget_graph\u001b[0m\u001b[0;34m(\u001b[0m\u001b[0mlayers\u001b[0m\u001b[0;34m)\u001b[0m\u001b[0;34m\u001b[0m\u001b[0;34m\u001b[0m\u001b[0m\n\u001b[1;32m      4\u001b[0m \u001b[0msaver\u001b[0m \u001b[0;34m=\u001b[0m \u001b[0mtf\u001b[0m\u001b[0;34m.\u001b[0m\u001b[0mtrain\u001b[0m\u001b[0;34m.\u001b[0m\u001b[0mSaver\u001b[0m\u001b[0;34m(\u001b[0m\u001b[0;34m)\u001b[0m\u001b[0;34m\u001b[0m\u001b[0;34m\u001b[0m\u001b[0m\n\u001b[1;32m      5\u001b[0m \u001b[0mprint\u001b[0m\u001b[0;34m(\u001b[0m\u001b[0mtotal_parameters\u001b[0m\u001b[0;34m,\u001b[0m \u001b[0;34m\"Total parameters to prune\"\u001b[0m\u001b[0;34m)\u001b[0m\u001b[0;34m\u001b[0m\u001b[0;34m\u001b[0m\u001b[0m\n",
            "\u001b[0;31mNameError\u001b[0m: name 'tf' is not defined"
          ]
        }
      ]
    },
    {
      "metadata": {
        "id": "gdxTTrZuZKN8",
        "colab_type": "text"
      },
      "cell_type": "markdown",
      "source": [
        "# Analysis"
      ]
    },
    {
      "metadata": {
        "id": "LubkBwM9ZLUd",
        "colab_type": "code",
        "colab": {}
      },
      "cell_type": "code",
      "source": [
        "# plot cumsum of params prunes against accuracy \n",
        "# maybe "
      ],
      "execution_count": 0,
      "outputs": []
    }
  ]
}