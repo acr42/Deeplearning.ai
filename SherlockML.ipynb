{
 "cells": [
  {
   "cell_type": "code",
   "execution_count": 1,
   "metadata": {
    "collapsed": true
   },
   "outputs": [],
   "source": [
    "import numpy as np"
   ]
  },
  {
   "cell_type": "code",
   "execution_count": 14,
   "metadata": {
    "collapsed": true
   },
   "outputs": [],
   "source": [
    "x=np.random.rand(100)\n",
    "w=np.random.rand(100)"
   ]
  },
  {
   "cell_type": "code",
   "execution_count": 15,
   "metadata": {
    "collapsed": false
   },
   "outputs": [
    {
     "data": {
      "text/plain": [
       "array([  2.58670975e-01,   4.77304006e-01,   2.25994690e-04,\n",
       "         6.00837837e-01,   5.61420266e-01,   2.51036749e-01,\n",
       "         7.27830079e-01,   7.08614237e-01,   3.17638880e-02,\n",
       "         1.38937661e-01,   6.79613503e-02,   7.17280896e-01,\n",
       "         7.23322265e-01,   4.72755016e-01,   6.48734561e-02,\n",
       "         1.93576359e-01,   6.95968540e-08,   4.90064299e-03,\n",
       "         4.65597819e-03,   7.96115008e-01,   3.38733519e-01,\n",
       "         5.11100597e-02,   7.33983624e-01,   1.16686423e-01,\n",
       "         8.32039669e-01,   2.61986356e-01,   2.94878578e-01,\n",
       "         3.89856804e-01,   9.98445754e-03,   8.69152777e-04,\n",
       "         8.95322848e-02,   8.99159474e-02,   8.05596606e-01,\n",
       "         3.22472132e-01,   8.93067422e-01,   3.89066219e-02,\n",
       "         9.07419301e-01,   1.42265476e-02,   8.76254214e-02,\n",
       "         2.22899928e-02,   1.43091714e-01,   8.80768474e-02,\n",
       "         1.66261801e-01,   1.44837173e-01,   2.53869284e-01,\n",
       "         3.51971299e-02,   5.02528506e-01,   7.02134614e-01,\n",
       "         3.17102229e-01,   4.92183346e-05,   6.41580050e-01,\n",
       "         1.13342218e-02,   3.45956746e-01,   7.11357453e-01,\n",
       "         1.01254648e-02,   3.99214572e-01,   5.21309636e-01,\n",
       "         6.15825989e-01,   3.40189554e-02,   2.76733518e-01,\n",
       "         1.95625598e-02,   1.70019434e-01,   1.23570668e-01,\n",
       "         4.24726967e-01,   7.16021891e-01,   3.56588806e-01,\n",
       "         2.10345894e-01,   3.12222520e-01,   4.76365811e-01,\n",
       "         5.52585414e-01,   4.47350903e-01,   4.36728264e-03,\n",
       "         7.93507048e-01,   2.47191545e-02,   5.30904309e-03,\n",
       "         3.16543444e-01,   3.46764192e-01,   4.17502889e-02,\n",
       "         8.94642859e-01,   3.22141393e-01,   5.34172653e-02,\n",
       "         2.76325756e-01,   2.20193149e-01,   2.70431483e-01,\n",
       "         1.73445988e-01,   5.08843023e-01,   7.53529803e-03,\n",
       "         1.88918067e-04,   3.37943129e-01,   1.29372486e-02,\n",
       "         5.58751473e-01,   5.43127882e-03,   7.48019559e-04,\n",
       "         1.19721483e-01,   6.58902499e-04,   3.93184304e-02,\n",
       "         5.67767368e-01,   3.37051077e-01,   1.02377582e-01,\n",
       "         1.90504408e-01])"
      ]
     },
     "execution_count": 15,
     "metadata": {},
     "output_type": "execute_result"
    }
   ],
   "source": [
    "np.log(x)\n",
    "np.abs(x)\n",
    "np.maximum(x,0)\n",
    "x**2 #squared of a"
   ]
  },
  {
   "cell_type": "code",
   "execution_count": 10,
   "metadata": {
    "collapsed": false
   },
   "outputs": [
    {
     "data": {
      "text/plain": [
       "array([ 0.])"
      ]
     },
     "execution_count": 10,
     "metadata": {},
     "output_type": "execute_result"
    }
   ],
   "source": [
    "np.zeros(1) #to initialise "
   ]
  },
  {
   "cell_type": "code",
   "execution_count": 11,
   "metadata": {
    "collapsed": false
   },
   "outputs": [
    {
     "name": "stdout",
     "output_type": "stream",
     "text": [
      "The slowest run took 195.20 times longer than the fastest. This could mean that an intermediate result is being cached.\n",
      "10000 loops, best of 3: 34.4 µs per loop\n"
     ]
    }
   ],
   "source": [
    "def random_run(n):\n",
    "    steps=np.random.choice([-1,1],size=n)\n",
    "    return np.cumsum(steps)\n",
    "\n",
    "%timeit random_run(1000)"
   ]
  },
  {
   "cell_type": "code",
   "execution_count": 19,
   "metadata": {
    "collapsed": true
   },
   "outputs": [],
   "source": [
    "z=np.dot(w.T,x)+1 #broadcasting when python takes integer and turns it into a list"
   ]
  },
  {
   "cell_type": "code",
   "execution_count": null,
   "metadata": {
    "collapsed": true
   },
   "outputs": [],
   "source": []
  }
 ],
 "metadata": {
  "anaconda-cloud": {},
  "kernelspec": {
   "display_name": "Python [default]",
   "language": "python",
   "name": "python3"
  },
  "language_info": {
   "codemirror_mode": {
    "name": "ipython",
    "version": 3
   },
   "file_extension": ".py",
   "mimetype": "text/x-python",
   "name": "python",
   "nbconvert_exporter": "python",
   "pygments_lexer": "ipython3",
   "version": "3.5.3"
  }
 },
 "nbformat": 4,
 "nbformat_minor": 1
}
