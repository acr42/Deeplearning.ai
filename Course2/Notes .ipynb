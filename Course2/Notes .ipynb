{
 "cells": [
  {
   "cell_type": "markdown",
   "metadata": {},
   "source": [
    "# Week1\n"
   ]
  },
  {
   "cell_type": "markdown",
   "metadata": {},
   "source": [
    "- Train/Dev/Test 80 10 10 %\n",
    "\n",
    "- Mismatched train/test sets - make sure they come from the same distribution i.e same source of pictures (from website or from users phones, cant use both) \n",
    "\n",
    "- Not having a test set might be ok (only on dev set)\n",
    "\n",
    "- Bias and variance, when looking at dev set error and train set error, if train set error is much higher, then implies overfitting\n",
    "\n",
    "- high bias if both train and dev errors are high and close\n",
    "\n",
    "- high bias and variance if high train and high dev (dev= double ish train) error.\n",
    "\n",
    "- low bias and low variance if train error is 0.5% and dev is 1%\n",
    "\n",
    "- low train and high dev is high variance \n",
    "\n",
    "\n",
    "\n",
    "## Recipes\n",
    "\n",
    "- High Bias -> (YES) -> bigger network, train longer, (NN Architecture search) \n",
    "\n",
    "- High Bias  -> (No, fixed from above) -> High Variance (Yes) -> More data, regularisation, (NN Architecture search)   \n",
    "\n",
    "## Regularisation (reduce variance in test n dev results)\n",
    "\n",
    "- L1 regularisation or L2, L1 makes model more sparse, L2 used for often. Add on $\\newcommand{\\norm}[1]{\\left\\lVert#1\\right\\rVert}\n",
    " \\lambda * \\norm{w}_2$\n",
    " \n",
    " - When computing derivative with regularisation term $\\mathcal{dw}=(from\\ backprop) + \\frac{\\lambda}{m}*w$\n",
    " \n",
    " - $w=w-\\alpha*\\mathcal{dw}$\n",
    " \n",
    " - $w=w-\\frac{\\alpha * \\lambda}{m}*W $ (called \"Weight Decay\")\n",
    " \n",
    " - When debugging gradient descent plot new loss function with weight decay formula in order to properly debug (should see monotonically decreasing function)\n",
    " \n",
    " - Implementing dropout (inverted dropout) on 3 layered NN, keep.prop=0.8 d3=np.random.rand(a3.shape[0],a3.shape[1])< keep.prob\n",
    "- a3=np.multiply(a3,d3)\n",
    "- a3/keep.prob (scale up) \n",
    "\n",
    "- Can change keep.prop at different layers, lower keep prop for largest weights layer (0.5), 0.7 for  other layers and small layers 1.0. Usually keepprop of 1.0 to input layer\n",
    "\n",
    "- Can use two values, 1.0 for non dropout layers and 0.7 for all dropout layers (only use if overfitting)\n",
    "\n",
    "- Data Augmentation - flip horizontally for image, take random crops of the image, random distortions of image (not as good as new data but inexpensive way to add new data)"
   ]
  },
  {
   "cell_type": "code",
   "execution_count": null,
   "metadata": {
    "collapsed": true
   },
   "outputs": [],
   "source": []
  }
 ],
 "metadata": {
  "anaconda-cloud": {},
  "kernelspec": {
   "display_name": "Python [default]",
   "language": "python",
   "name": "python3"
  },
  "language_info": {
   "codemirror_mode": {
    "name": "ipython",
    "version": 3
   },
   "file_extension": ".py",
   "mimetype": "text/x-python",
   "name": "python",
   "nbconvert_exporter": "python",
   "pygments_lexer": "ipython3",
   "version": "3.5.3"
  }
 },
 "nbformat": 4,
 "nbformat_minor": 1
}
